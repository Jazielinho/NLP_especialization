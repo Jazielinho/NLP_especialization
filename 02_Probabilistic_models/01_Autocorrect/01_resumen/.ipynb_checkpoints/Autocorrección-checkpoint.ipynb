{
 "cells": [
  {
   "cell_type": "markdown",
   "metadata": {
    "slideshow": {
     "slide_type": "slide"
    }
   },
   "source": [
    "# Autocorrección\n",
    "\n",
    "A continuación vamos a resumir la primera semana del segundo curso de la especialización de NLP: https://www.coursera.org/specializations/natural-language-processing\n",
    "\n",
    "El segundo curso se llama: Probabilistic Models\n",
    "La primera semana: Autocorrect"
   ]
  },
  {
   "cell_type": "markdown",
   "metadata": {
    "slideshow": {
     "slide_type": "slide"
    }
   },
   "source": [
    "## ¿Qué es autocorrección?\n",
    "\n",
    "Es una aplicación que cambia palabras incorrectas en palabras correctas."
   ]
  },
  {
   "cell_type": "code",
   "execution_count": 26,
   "metadata": {},
   "outputs": [],
   "source": [
    "from IPython.display import Image\n",
    "import pickle\n",
    "import pandas as pd"
   ]
  },
  {
   "cell_type": "code",
   "execution_count": 8,
   "metadata": {},
   "outputs": [],
   "source": [
    "PATH_PALABRAS = 'D:/01_NLP/NLP_aplicaciones/Probabilistic_models/Autocorrect/filename.pickle'"
   ]
  },
  {
   "cell_type": "code",
   "execution_count": 9,
   "metadata": {},
   "outputs": [
    {
     "data": {
      "text/html": [
       "<img src=\"https://raw.githubusercontent.com/Jazielinho/NLP_especialization/master/01_Classification_and_vector_spaces/01_Sentiment_Analysis_with_Logistic_Regression/01_resumen/01_machine_learning.PNG\"/>"
      ],
      "text/plain": [
       "<IPython.core.display.Image object>"
      ]
     },
     "execution_count": 9,
     "metadata": {},
     "output_type": "execute_result"
    }
   ],
   "source": [
    "Image(url=\"https://raw.githubusercontent.com/Jazielinho/NLP_especialization/master/01_Classification_and_vector_spaces/01_Sentiment_Analysis_with_Logistic_Regression/01_resumen/01_machine_learning.PNG\")"
   ]
  },
  {
   "cell_type": "markdown",
   "metadata": {},
   "source": [
    "## ¿Cómo corregir automáticamente una palabra incorrecta?\n",
    "\n",
    "1. Identificar la palabra incorrecta\n",
    "\n",
    "2. Encontrar candidatos con distancia = 'n'\n",
    "\n",
    "3. Filtrar candidatos\n",
    "\n",
    "4. Calcular probabilidades de los candidatos"
   ]
  },
  {
   "cell_type": "code",
   "execution_count": 16,
   "metadata": {},
   "outputs": [],
   "source": [
    "dict_palabras_cantidad = pickle.load(open(PATH_PALABRAS, 'rb'))\n",
    "dict_palabras_cantidad = {str(k).lower(): v for k, v in dict_palabras_cantidad.items()}\n",
    "palabras_validas = set(dict_palabras_cantidad.keys())\n",
    "cantidad_total = sum(dict_palabras_cantidad.values())\n",
    "dict_palabras_prob = {k: v / cantidad_total for k, v in dict_palabras_cantidad.items()}"
   ]
  },
  {
   "cell_type": "markdown",
   "metadata": {},
   "source": [
    "## Identificar palabra incorrecta\n",
    "\n",
    "¿cómo saber si una palabra está escrita de manera incorrecta?\n",
    "No se puede encontrar la palabra en un diccionario"
   ]
  },
  {
   "cell_type": "code",
   "execution_count": 22,
   "metadata": {},
   "outputs": [],
   "source": [
    "def verifica_palabra(palabra):\n",
    "    if palabra in palabras_validas:\n",
    "        return True\n",
    "    return False  "
   ]
  },
  {
   "cell_type": "code",
   "execution_count": 24,
   "metadata": {},
   "outputs": [
    {
     "data": {
      "text/plain": [
       "True"
      ]
     },
     "execution_count": 24,
     "metadata": {},
     "output_type": "execute_result"
    }
   ],
   "source": [
    "verifica_palabra('hola')"
   ]
  },
  {
   "cell_type": "code",
   "execution_count": 25,
   "metadata": {},
   "outputs": [
    {
     "data": {
      "text/plain": [
       "False"
      ]
     },
     "execution_count": 25,
     "metadata": {},
     "output_type": "execute_result"
    }
   ],
   "source": [
    "verifica_palabra('holah')"
   ]
  },
  {
   "cell_type": "markdown",
   "metadata": {},
   "source": [
    "## Encontrar candidatos de distancia = 'n'\n",
    "\n",
    "\n"
   ]
  },
  {
   "cell_type": "code",
   "execution_count": null,
   "metadata": {},
   "outputs": [],
   "source": []
  }
 ],
 "metadata": {
  "celltoolbar": "Slideshow",
  "kernelspec": {
   "display_name": "Python 3",
   "language": "python",
   "name": "python3"
  },
  "language_info": {
   "codemirror_mode": {
    "name": "ipython",
    "version": 3
   },
   "file_extension": ".py",
   "mimetype": "text/x-python",
   "name": "python",
   "nbconvert_exporter": "python",
   "pygments_lexer": "ipython3",
   "version": "3.7.6"
  }
 },
 "nbformat": 4,
 "nbformat_minor": 4
}
