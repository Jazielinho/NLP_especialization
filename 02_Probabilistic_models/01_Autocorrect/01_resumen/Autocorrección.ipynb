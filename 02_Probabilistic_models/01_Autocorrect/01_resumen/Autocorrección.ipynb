{
 "cells": [
  {
   "cell_type": "markdown",
   "metadata": {
    "slideshow": {
     "slide_type": "slide"
    }
   },
   "source": [
    "# Autocorrección\n",
    "\n",
    "A continuación vamos a resumir la primera semana del segundo curso de la especialización de NLP: https://www.coursera.org/specializations/natural-language-processing\n",
    "\n",
    "El segundo curso se llama: Probabilistic Models\n",
    "La primera semana: Autocorrect"
   ]
  },
  {
   "cell_type": "markdown",
   "metadata": {
    "slideshow": {
     "slide_type": "slide"
    }
   },
   "source": [
    "## ¿Qué es autocorrección?\n",
    "\n",
    "Es una aplicación que cambia palabras incorrectas en palabras correctas."
   ]
  },
  {
   "cell_type": "code",
   "execution_count": 1,
   "metadata": {},
   "outputs": [],
   "source": [
    "from IPython.display import Image\n",
    "import pickle\n",
    "import pandas as pd"
   ]
  },
  {
   "cell_type": "code",
   "execution_count": 2,
   "metadata": {},
   "outputs": [],
   "source": [
    "PATH_PALABRAS = 'D:/01_NLP/NLP_aplicaciones/Probabilistic_models/Autocorrect/filename.pickle'"
   ]
  },
  {
   "cell_type": "code",
   "execution_count": 3,
   "metadata": {},
   "outputs": [
    {
     "data": {
      "text/html": [
       "<img src=\"https://raw.githubusercontent.com/Jazielinho/NLP_especialization/master/01_Classification_and_vector_spaces/01_Sentiment_Analysis_with_Logistic_Regression/01_resumen/01_machine_learning.PNG\"/>"
      ],
      "text/plain": [
       "<IPython.core.display.Image object>"
      ]
     },
     "execution_count": 3,
     "metadata": {},
     "output_type": "execute_result"
    }
   ],
   "source": [
    "Image(url=\"https://raw.githubusercontent.com/Jazielinho/NLP_especialization/master/01_Classification_and_vector_spaces/01_Sentiment_Analysis_with_Logistic_Regression/01_resumen/01_machine_learning.PNG\")"
   ]
  },
  {
   "cell_type": "markdown",
   "metadata": {},
   "source": [
    "## ¿Cómo corregir automáticamente una palabra incorrecta?\n",
    "\n",
    "1. Identificar la palabra incorrecta\n",
    "\n",
    "2. Encontrar candidatos con distancia = 'n'\n",
    "\n",
    "3. Filtrar candidatos\n",
    "\n",
    "4. Calcular probabilidades de los candidatos"
   ]
  },
  {
   "cell_type": "code",
   "execution_count": 4,
   "metadata": {},
   "outputs": [],
   "source": [
    "dict_palabras_cantidad = pickle.load(open(PATH_PALABRAS, 'rb'))\n",
    "dict_palabras_cantidad = {str(k).lower(): v for k, v in dict_palabras_cantidad.items()}\n",
    "palabras_validas = set(dict_palabras_cantidad.keys())\n",
    "cantidad_total = sum(dict_palabras_cantidad.values())\n",
    "dict_palabras_prob = {k: v / cantidad_total for k, v in dict_palabras_cantidad.items()}"
   ]
  },
  {
   "cell_type": "code",
   "execution_count": 5,
   "metadata": {},
   "outputs": [],
   "source": [
    "LETRAS = 'abcdefghijklmnopqrstuvwxyz'"
   ]
  },
  {
   "cell_type": "markdown",
   "metadata": {},
   "source": [
    "## Identificar palabra incorrecta\n",
    "\n",
    "¿cómo saber si una palabra está escrita de manera incorrecta?\n",
    "No se puede encontrar la palabra en un diccionario"
   ]
  },
  {
   "cell_type": "code",
   "execution_count": 6,
   "metadata": {},
   "outputs": [],
   "source": [
    "def verifica_palabra(palabra):\n",
    "    if palabra in palabras_validas:\n",
    "        return True\n",
    "    return False  "
   ]
  },
  {
   "cell_type": "code",
   "execution_count": 7,
   "metadata": {},
   "outputs": [
    {
     "data": {
      "text/plain": [
       "True"
      ]
     },
     "execution_count": 7,
     "metadata": {},
     "output_type": "execute_result"
    }
   ],
   "source": [
    "verifica_palabra('ejemplo')"
   ]
  },
  {
   "cell_type": "code",
   "execution_count": 8,
   "metadata": {},
   "outputs": [
    {
     "data": {
      "text/plain": [
       "False"
      ]
     },
     "execution_count": 8,
     "metadata": {},
     "output_type": "execute_result"
    }
   ],
   "source": [
    "verifica_palabra('ejemplho')"
   ]
  },
  {
   "cell_type": "markdown",
   "metadata": {},
   "source": [
    "## Encontrar candidatos de distancia = 'n'"
   ]
  },
  {
   "cell_type": "markdown",
   "metadata": {},
   "source": [
    "### Insertar"
   ]
  },
  {
   "cell_type": "code",
   "execution_count": 9,
   "metadata": {},
   "outputs": [],
   "source": [
    "def insertar(palabra):\n",
    "    ''' Insertamos una letra dentro de la palabra original '''\n",
    "    lista_nuevas_palabras = []\n",
    "    for i in range(len(palabra) + 1):\n",
    "        for letra in LETRAS:\n",
    "            nueva_palabra = palabra[:i] + letra + palabra[i:]\n",
    "            lista_nuevas_palabras.append(nueva_palabra)\n",
    "    return lista_nuevas_palabras"
   ]
  },
  {
   "cell_type": "code",
   "execution_count": 10,
   "metadata": {
    "scrolled": true
   },
   "outputs": [
    {
     "data": {
      "text/plain": [
       "['aejemplho',\n",
       " 'bejemplho',\n",
       " 'cejemplho',\n",
       " 'dejemplho',\n",
       " 'eejemplho',\n",
       " 'fejemplho',\n",
       " 'gejemplho',\n",
       " 'hejemplho',\n",
       " 'iejemplho',\n",
       " 'jejemplho']"
      ]
     },
     "execution_count": 10,
     "metadata": {},
     "output_type": "execute_result"
    }
   ],
   "source": [
    "insertar('ejemplho')[:10]"
   ]
  },
  {
   "cell_type": "markdown",
   "metadata": {},
   "source": [
    "### Eliminar"
   ]
  },
  {
   "cell_type": "code",
   "execution_count": 11,
   "metadata": {},
   "outputs": [],
   "source": [
    "def eliminar(palabra):\n",
    "    ''' eliminamos una letra de la palabra original '''\n",
    "    lista_nuevas_palabras = []\n",
    "    for i in range(len(palabra)):\n",
    "        nueva_palabra = palabra[:i] + palabra[(i+1):]\n",
    "        lista_nuevas_palabras.append(nueva_palabra)\n",
    "    return lista_nuevas_palabras"
   ]
  },
  {
   "cell_type": "code",
   "execution_count": 12,
   "metadata": {},
   "outputs": [
    {
     "data": {
      "text/plain": [
       "['jemplho',\n",
       " 'eemplho',\n",
       " 'ejmplho',\n",
       " 'ejeplho',\n",
       " 'ejemlho',\n",
       " 'ejempho',\n",
       " 'ejemplo',\n",
       " 'ejemplh']"
      ]
     },
     "execution_count": 12,
     "metadata": {},
     "output_type": "execute_result"
    }
   ],
   "source": [
    "eliminar('ejemplho')"
   ]
  },
  {
   "cell_type": "markdown",
   "metadata": {},
   "source": [
    "### Transponer"
   ]
  },
  {
   "cell_type": "code",
   "execution_count": 13,
   "metadata": {},
   "outputs": [],
   "source": [
    "def transponer(palabra):\n",
    "    ''' intercambiamos dos letras adyacentes'''\n",
    "    lista_nuevas_palabras = []\n",
    "    for i in range(len(palabra) - 1):\n",
    "        nueva_palabra = palabra[:i] + palabra[(i+1)] + palabra[i] + palabra[(i+2):]\n",
    "        lista_nuevas_palabras.append(nueva_palabra)\n",
    "    return lista_nuevas_palabras"
   ]
  },
  {
   "cell_type": "markdown",
   "metadata": {},
   "source": [
    "### Reemplazar"
   ]
  },
  {
   "cell_type": "code",
   "execution_count": 14,
   "metadata": {},
   "outputs": [],
   "source": [
    "def reemplazar(palabra):\n",
    "    ''' reemplazamos una 1 letra '''\n",
    "    lista_nuevas_palabras = []\n",
    "    for i in range(len(palabra)):\n",
    "        for letra in LETRAS:\n",
    "            nueva_palabra = palabra[:i] + letra + palabra[(i+1):]\n",
    "            lista_nuevas_palabras.append(nueva_palabra)\n",
    "    return lista_nuevas_palabras"
   ]
  },
  {
   "cell_type": "code",
   "execution_count": 15,
   "metadata": {},
   "outputs": [
    {
     "data": {
      "text/plain": [
       "['ajemplho',\n",
       " 'bjemplho',\n",
       " 'cjemplho',\n",
       " 'djemplho',\n",
       " 'ejemplho',\n",
       " 'fjemplho',\n",
       " 'gjemplho',\n",
       " 'hjemplho',\n",
       " 'ijemplho',\n",
       " 'jjemplho']"
      ]
     },
     "execution_count": 15,
     "metadata": {},
     "output_type": "execute_result"
    }
   ],
   "source": [
    "reemplazar('ejemplho')[:10]"
   ]
  },
  {
   "cell_type": "markdown",
   "metadata": {},
   "source": [
    "### Combinando y filtrando candidatos"
   ]
  },
  {
   "cell_type": "code",
   "execution_count": 16,
   "metadata": {},
   "outputs": [],
   "source": [
    "def candidatos(palabra):\n",
    "    ''' ediciones: insertar, eliminar, transponer, reemplazar '''\n",
    "    lista_insertar = insertar(palabra)\n",
    "    lista_eliminar = eliminar(palabra)\n",
    "    lista_transponer = transponer(palabra)\n",
    "    lista_reemplazar = reemplazar(palabra)\n",
    "    lista_nuevas_palabras = lista_insertar + lista_eliminar + lista_transponer + lista_reemplazar\n",
    "    ''' eliminamos duplicados '''\n",
    "    lista_nuevas_palabras = set(lista_nuevas_palabras)\n",
    "    ''' convertimos en lista '''\n",
    "    lista_nuevas_palabras = list(lista_nuevas_palabras)\n",
    "    ''' devolvemos las que están en el diccionario'''\n",
    "    return [x for x in lista_nuevas_palabras if verifica_palabra(x)]"
   ]
  },
  {
   "cell_type": "code",
   "execution_count": 17,
   "metadata": {},
   "outputs": [
    {
     "data": {
      "text/plain": [
       "['ejemplo']"
      ]
     },
     "execution_count": 17,
     "metadata": {},
     "output_type": "execute_result"
    }
   ],
   "source": [
    "candidatos('ejemplho')[:10]"
   ]
  },
  {
   "cell_type": "markdown",
   "metadata": {},
   "source": [
    "### Calculando probabilidades"
   ]
  },
  {
   "cell_type": "code",
   "execution_count": 18,
   "metadata": {},
   "outputs": [],
   "source": [
    "def mejores_recomendaciones(lista_palabras, n=5):\n",
    "    diccionario_prob = {k: dict_palabras_prob[k] for k in lista_palabras}\n",
    "    dict_mejores_recomendaciones = pd.Series(diccionario_prob).sort_values(ascending=False).head(n).to_dict()\n",
    "    return dict_mejores_recomendaciones   "
   ]
  },
  {
   "cell_type": "code",
   "execution_count": 19,
   "metadata": {},
   "outputs": [
    {
     "data": {
      "text/plain": [
       "{'ejemplo': 0.00033956211504374684}"
      ]
     },
     "execution_count": 19,
     "metadata": {},
     "output_type": "execute_result"
    }
   ],
   "source": [
    "mejores_recomendaciones(candidatos('ejemplho'))"
   ]
  },
  {
   "cell_type": "markdown",
   "metadata": {},
   "source": [
    "## Poniendo todo junto"
   ]
  },
  {
   "cell_type": "code",
   "execution_count": 20,
   "metadata": {},
   "outputs": [],
   "source": [
    "def corrige(palabra, n=5):\n",
    "    palabra = str(palabra).lower()\n",
    "    \n",
    "    if verifica_palabra(palabra):\n",
    "        return {palabra: dict_palabras_prob[palabra]}\n",
    "    \n",
    "    lista_candidatos = candidatos(palabra)\n",
    "    \n",
    "    if len(lista_candidatos) == 0:\n",
    "        print('No tenemos candidatos para la palabra {}'.format(palabra))\n",
    "        return None\n",
    "    \n",
    "    print('Hemos encontrado {} palabras válidas'.format(len(lista_candidatos)))\n",
    "    \n",
    "    dict_mejores_reco = mejores_recomendaciones(lista_candidatos, n)\n",
    "    \n",
    "    return dict_mejores_reco"
   ]
  },
  {
   "cell_type": "code",
   "execution_count": 21,
   "metadata": {},
   "outputs": [
    {
     "name": "stdout",
     "output_type": "stream",
     "text": [
      "Hemos encontrado 1 palabras válidas\n"
     ]
    },
    {
     "data": {
      "text/plain": [
       "{'ejemplo': 0.00033956211504374684}"
      ]
     },
     "execution_count": 21,
     "metadata": {},
     "output_type": "execute_result"
    }
   ],
   "source": [
    "corrige('ejemplho')"
   ]
  },
  {
   "cell_type": "code",
   "execution_count": 22,
   "metadata": {},
   "outputs": [
    {
     "name": "stdout",
     "output_type": "stream",
     "text": [
      "Hemos encontrado 6 palabras válidas\n"
     ]
    },
    {
     "data": {
      "text/plain": [
       "{'hola': 1.1405479994906077e-05,\n",
       " 'holan': 7.865848272349018e-08,\n",
       " 'holas': 5.243898848232679e-08,\n",
       " 'olah': 1.9664620680872544e-08,\n",
       " 'holaa': 6.554873560290849e-09}"
      ]
     },
     "execution_count": 22,
     "metadata": {},
     "output_type": "execute_result"
    }
   ],
   "source": [
    "corrige('holah')"
   ]
  },
  {
   "cell_type": "code",
   "execution_count": 23,
   "metadata": {},
   "outputs": [
    {
     "name": "stdout",
     "output_type": "stream",
     "text": [
      "No tenemos candidatos para la palabra 123\n"
     ]
    }
   ],
   "source": [
    "corrige('123')"
   ]
  },
  {
   "cell_type": "code",
   "execution_count": null,
   "metadata": {},
   "outputs": [],
   "source": []
  }
 ],
 "metadata": {
  "celltoolbar": "Slideshow",
  "kernelspec": {
   "display_name": "Python 3",
   "language": "python",
   "name": "python3"
  },
  "language_info": {
   "codemirror_mode": {
    "name": "ipython",
    "version": 3
   },
   "file_extension": ".py",
   "mimetype": "text/x-python",
   "name": "python",
   "nbconvert_exporter": "python",
   "pygments_lexer": "ipython3",
   "version": "3.7.6"
  }
 },
 "nbformat": 4,
 "nbformat_minor": 4
}
