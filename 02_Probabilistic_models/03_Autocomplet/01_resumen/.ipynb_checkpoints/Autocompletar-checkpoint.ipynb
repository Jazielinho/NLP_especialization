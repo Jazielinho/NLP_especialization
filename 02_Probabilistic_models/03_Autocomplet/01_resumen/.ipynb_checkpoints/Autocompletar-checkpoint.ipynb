{
 "cells": [
  {
   "cell_type": "code",
   "execution_count": 1,
   "metadata": {},
   "outputs": [],
   "source": [
    "# Librerías necesarias\n",
    "import nltk\n",
    "import tqdm\n",
    "\n",
    "nltk.data.path.append('.')"
   ]
  },
  {
   "cell_type": "markdown",
   "metadata": {},
   "source": [
    "# Limpieza y tokenización"
   ]
  },
  {
   "cell_type": "code",
   "execution_count": 2,
   "metadata": {},
   "outputs": [],
   "source": [
    "# Actualiza esta linea con la ruta del txt\n",
    "PATH_TEXT = 'D:/01_NLP/NLP_especialization/02_Probabilistic_models/03_Autocomplet/01_resumen/En_US_twitter.txt'\n",
    "\n",
    "# Leyendo los textos\n",
    "with open(PATH_TEXT, \"r\", encoding=\"utf8\") as f:\n",
    "    data = f.read()"
   ]
  },
  {
   "cell_type": "code",
   "execution_count": 3,
   "metadata": {},
   "outputs": [],
   "source": [
    "def tokeniza_frase(frase):\n",
    "    ''' convierte una frase en tokens '''\n",
    "    frase = frase.lower()\n",
    "    frase = frase.strip()\n",
    "    token = nltk.word_tokenize(frase)\n",
    "    return token"
   ]
  },
  {
   "cell_type": "code",
   "execution_count": 11,
   "metadata": {},
   "outputs": [],
   "source": [
    "def tokeniza_data(data):\n",
    "    # Paso 1: dividiendo por saltos de línea (\\n) para generar frases\n",
    "    frases = data.split('\\n')\n",
    "    # Paso 2: Tokenizando cada frase\n",
    "    frases = [tokeniza_frase(x) for x in frases]\n",
    "    # Paso 3: Manteniendo textos que no sean vacios\n",
    "    frases = [x for x in frases if len(x) > 0]\n",
    "    return frases"
   ]
  },
  {
   "cell_type": "code",
   "execution_count": 12,
   "metadata": {},
   "outputs": [],
   "source": [
    "frases_tokenizadas = tokeniza_data(data)"
   ]
  },
  {
   "cell_type": "markdown",
   "metadata": {},
   "source": [
    "# Procesamiento de datos"
   ]
  },
  {
   "cell_type": "code",
   "execution_count": 5,
   "metadata": {},
   "outputs": [],
   "source": [
    "def calcula_conteo_tokens(frases_tokenizadas):\n",
    "    ''' generamos un diccionario con cantidad de veces que aparece cada token '''\n",
    "    conteo_token_diccionario = {}\n",
    "    for frase in frases_tokenizadas:\n",
    "        for token in frase:\n",
    "            if token not in conteo_token_diccionario.keys():\n",
    "                conteo_token_diccionario[token] = 1\n",
    "            else:\n",
    "                conteo_token_diccionario[token] += 1\n",
    "    return conteo_token_diccionario"
   ]
  },
  {
   "cell_type": "code",
   "execution_count": 6,
   "metadata": {},
   "outputs": [],
   "source": [
    "def genera_vocabulario(conteo_token_diccionario, umbral_minimo):\n",
    "    ''' devuelve lista de palabras (vocabulario) que superan el umbral '''\n",
    "    vocabulario_valido = [x for x, v in conteo_token_diccionario.items() if v >= umbral_minimo]\n",
    "    return vocabulario_valido"
   ]
  },
  {
   "cell_type": "code",
   "execution_count": 7,
   "metadata": {},
   "outputs": [],
   "source": [
    "def limpieza_frases_tokenizadas(frases_tokenizadas, vocabulario, token_missing=\"<unk>\"):\n",
    "    ''' reemplaza cada palabra por el valor de missing '''\n",
    "    vocabulario = set(vocabulario)\n",
    "    frases_tokenizadas_sin_missing = []\n",
    "    for frase in frases_tokenizadas:\n",
    "        frase_reemplazado = []\n",
    "        for token in frase:\n",
    "            if token in vocabulario:\n",
    "                # Si el token está en el vocabulario, lo mantenemos\n",
    "                frase_reemplazado.append(token)\n",
    "            else:\n",
    "                # Si el token no está en el vocabulario, lo reemplazamos por el token_missing\n",
    "                frase_reemplazado.append(token_missing)\n",
    "        frases_tokenizadas_sin_missing.append(frase_reemplazado)\n",
    "    return frases_tokenizadas_sin_missing"
   ]
  },
  {
   "cell_type": "code",
   "execution_count": 20,
   "metadata": {},
   "outputs": [],
   "source": [
    "def preprocesa_data(frases_tokenizadas, umbral_minimo, token_missing=\"<unk>\"):\n",
    "    ''' Calculamos la cantidad de veces que aparece nuestro token '''\n",
    "    conteo_palabra_diccionario = calcula_conteo_tokens(frases_tokenizadas)\n",
    "    ''' generamos nuestro vocabulario '''\n",
    "    vocabulario = genera_vocabulario(conteo_palabra_diccionario, umbral_minimo)\n",
    "    ''' Limpiamos nuestra lista de tokens usando el vocabulario '''\n",
    "    frases_tokenizadas_sin_missing = limpieza_frases_tokenizadas(frases_tokenizadas, vocabulario, token_missing)\n",
    "    return frases_tokenizadas_sin_missing, vocabulario"
   ]
  },
  {
   "cell_type": "code",
   "execution_count": 21,
   "metadata": {},
   "outputs": [],
   "source": [
    "frases_tokenizadas, vocabulario = preprocesa_data(frases_tokenizadas, umbral_minimo=2, token_missing=\"<unk>\")"
   ]
  },
  {
   "cell_type": "markdown",
   "metadata": {},
   "source": [
    "# Desarrollando modelo de lenguaje basado en n-grams"
   ]
  },
  {
   "cell_type": "markdown",
   "metadata": {},
   "source": [
    "## Conteo n-grams"
   ]
  },
  {
   "cell_type": "code",
   "execution_count": 22,
   "metadata": {},
   "outputs": [],
   "source": [
    "def conteo_n_grams(frases_tokenizadas, n, token_inicio=\"<s>\", token_final=\"<e>\"):\n",
    "    ''' calcula un diccionario con la cantidad que veces que aparece los n_grams '''\n",
    "    diccionario_n_grams = {}\n",
    "    for frase in frases_tokenizadas:\n",
    "        ''' agregamos token inicial y final a la frase '''\n",
    "        nueva_frase = [token_inicio] * n + frase + [token_final]\n",
    "    for i in range(len(nueva_frase) - n + 1):\n",
    "        ''' generamos nuestro n-gram '''\n",
    "        n_gram = nueva_frase[i : (i + n)]\n",
    "        n_gram = tuple(n_gram)\n",
    "        if n_gram not in diccionario_n_grams.keys():\n",
    "            ''' inicializamos nuestro n-gram si no está en nuestro diccionario '''\n",
    "            diccionario_n_grams[n_gram] = 1\n",
    "        else:\n",
    "            diccionario_n_grams[n_gram] += 1\n",
    "    return diccionario_n_grams"
   ]
  },
  {
   "cell_type": "markdown",
   "metadata": {},
   "source": [
    "## Estima probabilidad condicional"
   ]
  },
  {
   "cell_type": "code",
   "execution_count": 23,
   "metadata": {},
   "outputs": [],
   "source": [
    "def estima_probabilidad(palabra, n_gram_previo, diccionario_n_gram, diccionario_n1_gram, \n",
    "                        vocabulario, k=1.0, token_inicial='<s>', token_missing='<unk>'):\n",
    "    ''' calcula la probabilidad de una palabra dado el n_gram anterior '''\n",
    "    ''' verificamos si la palabra está en nuestro diccionario sino lo reemplazamos por missing '''\n",
    "    n_gram_previo = [x if x in vocabulario else x if x == token_inicial else token_missing for x in n_gram_previo]\n",
    "    n_gram_previo = tuple(n_gram_previo)\n",
    "    tamano_vocabulario = len(vocabulario)\n",
    "    ''' cantidad de veces que aparece el n_gram '''\n",
    "    cantidad_previo_n_gram = diccionario_n_gram.get(n_gram_previo, 0)\n",
    "    ''' Calculamos el denominador '''\n",
    "    denominador = cantidad_previo_n_gram + k * tamano_vocabulario\n",
    "    ''' generando el n_gram + 1 '''\n",
    "    n_gram_1 = n_gram_previo + (palabra,)\n",
    "    ''' cantidad de veces que aparece el n_gram_1 '''\n",
    "    cantidad_n_gram_1 = diccionario_n1_gram.get(n_gram_1, 0)\n",
    "    ''' Calculamos el numerador '''\n",
    "    numerador = cantidad_n_gram_1 + k\n",
    "    ''' calculando la probabilidad '''\n",
    "    probabilidad = numerador / denominador\n",
    "    return probabilidad"
   ]
  },
  {
   "cell_type": "code",
   "execution_count": 24,
   "metadata": {},
   "outputs": [],
   "source": [
    "def estima_probabilidades(n_gram_previo, diccionario_n_gram, diccionario_n1_gram, vocabulario, k=1.0,\n",
    "                          token_final='<e>', token_missing='<unk>'):\n",
    "    n_gram_previo = tuple(n_gram_previo)\n",
    "    ''' actualizamos nuestro vocabulario con el token final y token missin '''\n",
    "    vocabulary_nuevo = vocabulario + [token_final, token_missing]\n",
    "    vocabulary_nuevo = set(vocabulary_nuevo)\n",
    "    probabilidades = {}\n",
    "    for palabra in vocabulary_nuevo:\n",
    "        ''' calculamos la probabilidad para cada palabra de nuestro vocabulario '''\n",
    "        probabilidad = estima_probabilidad(palabra, n_gram_previo,\n",
    "                                           diccionario_n_gram, diccionario_n1_gram,\n",
    "                                           vocabulary_nuevo, k=k)\n",
    "        probabilidades[palabra] = probabilidad\n",
    "    return probabilidades "
   ]
  },
  {
   "cell_type": "markdown",
   "metadata": {},
   "source": [
    "# Sugerencias"
   ]
  },
  {
   "cell_type": "code",
   "execution_count": 25,
   "metadata": {},
   "outputs": [],
   "source": [
    "def sugiere_siguiente_palabra(token_previo, diccionario_n_gram, diccionario_n1_gram, vocabulario, k=1, empieza_con=None, \n",
    "                              token_inicial='<s>'):\n",
    "    ''' calculamos el tamaño del n-gram '''\n",
    "    n = len(list(diccionario_n_gram.keys())[0])\n",
    "    \n",
    "    if len(token_previo) >= n:\n",
    "        ''' si el token es mayor a n nos quedamos con los n últimos tokens '''\n",
    "        n_gram_previo = token_previo[-n:]\n",
    "    else:\n",
    "        ''' caso contrario, agregamos el token_inicial '''\n",
    "        n_gram_previo = [token_inicial] * (n - len(token_previo)) + token_previo\n",
    "        \n",
    "    ''' calculamos las probabilidades condicionales para nuestro vocabulario '''\n",
    "    probabilidades = estima_probabilidades(n_gram_previo=n_gram_previo, \n",
    "                                           diccionario_n_gram=diccionario_n_gram,\n",
    "                                           diccionario_n1_gram=diccionario_n1_gram, \n",
    "                                           vocabulario=vocabulario, \n",
    "                                           k=k)\n",
    "    ''' empezamos a sugerir palabras '''\n",
    "    sugerencia = None\n",
    "    maxima_probabilidad = 0\n",
    "    \n",
    "    for palabra, probabilidad in probabilidades.items():\n",
    "        if empieza_con is not None:\n",
    "            ''' verificamos si la palabra empieza con empieza_con '''\n",
    "            if len(palabra) < len(empieza_con) or empieza_con != palabra[:len(empieza_con)]:\n",
    "                continue\n",
    "        if probabilidad > maxima_probabilidad:\n",
    "            ''' nos quedamos con la palabra que maximice la probabilidad '''\n",
    "            sugerencia = palabra\n",
    "            maxima_probabilidad = probabilidad\n",
    "    return sugerencia, maxima_probabilidad"
   ]
  },
  {
   "cell_type": "code",
   "execution_count": 34,
   "metadata": {},
   "outputs": [],
   "source": [
    "def devuelve_sugerencias_token_previo(token_previo, lista_diccionario_n_gram, vocabulario, k=1.0, start_with=None):\n",
    "    ''' devuelve sugerencia para una lista de diccionarios con los n-gram '''\n",
    "    ''' contamos la lista de modelos sugeridos '''\n",
    "    cantidad_modelos = len(lista_diccionario_n_gram)\n",
    "    sugerencias = []\n",
    "    for i in range(cantidad_modelos-1):\n",
    "        ''' calculamos las sugerencias para cada diccionario n-gram '''\n",
    "        diccionario_n_gram = lista_diccionario_n_gram[i]\n",
    "        diccionario_n1_gram = lista_diccionario_n_gram[i+1]\n",
    "        sugerencia  = sugiere_siguiente_palabra(token_previo, diccionario_n_gram,\n",
    "                                                diccionario_n1_gram, vocabulario,\n",
    "                                                k=k, empieza_con=start_with)\n",
    "        ''' guardamos la sugerencia en la lista de sugerencias '''\n",
    "        sugerencias.append(sugerencia)\n",
    "    return sugerencias"
   ]
  },
  {
   "cell_type": "code",
   "execution_count": 35,
   "metadata": {},
   "outputs": [],
   "source": [
    "def devuelve_sugerencias(texto, lista_diccionario_n_gram, vocabulario, k=1.0, start_with=None):\n",
    "    ''' tokenizamos nuestro texto '''\n",
    "    token_texto = tokeniza_frase(texto)\n",
    "    ''' calculamos la sugerencias para una lista de diccionarios n-grams '''\n",
    "    sugerencias = devuelve_sugerencias_token_previo(token_texto, lista_diccionario_n_gram, vocabulario, k, start_with)\n",
    "    ''' devolvemos la salida '''\n",
    "    return sugerencias"
   ]
  },
  {
   "cell_type": "markdown",
   "metadata": {},
   "source": [
    "# Probando el algoritmo"
   ]
  },
  {
   "cell_type": "code",
   "execution_count": 36,
   "metadata": {},
   "outputs": [],
   "source": [
    "''' generamos nuestra lista de diccionarios con los conteos n-grams '''\n",
    "lista_diccionario_n_gram = [conteo_n_grams(frases_tokenizadas, n) for n in range(1, 6)]"
   ]
  },
  {
   "cell_type": "code",
   "execution_count": 37,
   "metadata": {},
   "outputs": [],
   "source": [
    "texto = \"i like\"\n",
    "sugerencias = devuelve_sugerencias(texto, lista_diccionario_n_gram, vocabulario, 1.0, 'c')"
   ]
  },
  {
   "cell_type": "code",
   "execution_count": null,
   "metadata": {},
   "outputs": [],
   "source": []
  }
 ],
 "metadata": {
  "kernelspec": {
   "display_name": "Python 3",
   "language": "python",
   "name": "python3"
  },
  "language_info": {
   "codemirror_mode": {
    "name": "ipython",
    "version": 3
   },
   "file_extension": ".py",
   "mimetype": "text/x-python",
   "name": "python",
   "nbconvert_exporter": "python",
   "pygments_lexer": "ipython3",
   "version": "3.7.6"
  }
 },
 "nbformat": 4,
 "nbformat_minor": 4
}
