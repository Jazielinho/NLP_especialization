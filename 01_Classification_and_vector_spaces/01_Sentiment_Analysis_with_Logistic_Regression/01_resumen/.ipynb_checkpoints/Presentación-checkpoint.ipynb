{
 "cells": [
  {
   "cell_type": "markdown",
   "metadata": {},
   "source": [
    "# Primera semana - Clasificación de textos usando regresión logística\n",
    "\n",
    "La primera semana hablaron sobre regresión logística y tratamiento de texto para clasificar tweets ya sea como positivo o negativo"
   ]
  },
  {
   "cell_type": "code",
   "execution_count": 1,
   "metadata": {},
   "outputs": [],
   "source": [
    "from IPython.display import Image"
   ]
  },
  {
   "cell_type": "markdown",
   "metadata": {},
   "source": [
    "## Aprendizaje supervisado y análisis de sentimiento\n",
    "\n",
    "Un modelo de aprendizaje supervisado tiene la siguiente forma:"
   ]
  },
  {
   "cell_type": "code",
   "execution_count": 2,
   "metadata": {},
   "outputs": [
    {
     "data": {
      "text/html": [
       "<img src=\"https://raw.githubusercontent.com/Jazielinho/NLP_especialization/master/01_Classification_and_vector_spaces/01_Sentiment_Analysis_with_Logistic_Regression/01_resumen/01_machine_learning.PNG\"/>"
      ],
      "text/plain": [
       "<IPython.core.display.Image object>"
      ]
     },
     "execution_count": 2,
     "metadata": {},
     "output_type": "execute_result"
    }
   ],
   "source": [
    "Image(url=\"https://raw.githubusercontent.com/Jazielinho/NLP_especialization/master/01_Classification_and_vector_spaces/01_Sentiment_Analysis_with_Logistic_Regression/01_resumen/01_machine_learning.PNG\")"
   ]
  },
  {
   "cell_type": "markdown",
   "metadata": {},
   "source": [
    "Donde $X$ es una matriz de tamaño $n x p$, con $n$ número de observaciones y $p$ número de características.\n",
    "\n",
    "Un buen ejemplo de este tipo de datos se ve en la siguiente figura:"
   ]
  },
  {
   "cell_type": "code",
   "execution_count": 3,
   "metadata": {},
   "outputs": [
    {
     "data": {
      "text/html": [
       "<img src=\"https://raw.githubusercontent.com/Jazielinho/NLP_especialization/master/01_Classification_and_vector_spaces/01_Sentiment_Analysis_with_Logistic_Regression/01_resumen/00_tabular_data.png\"/>"
      ],
      "text/plain": [
       "<IPython.core.display.Image object>"
      ]
     },
     "execution_count": 3,
     "metadata": {},
     "output_type": "execute_result"
    }
   ],
   "source": [
    "Image(url=\"https://raw.githubusercontent.com/Jazielinho/NLP_especialization/master/01_Classification_and_vector_spaces/01_Sentiment_Analysis_with_Logistic_Regression/01_resumen/00_tabular_data.png\")"
   ]
  },
  {
   "cell_type": "markdown",
   "metadata": {},
   "source": [
    "Sin embargo, en análisis de texto, nos encontramos con este ejemplo:"
   ]
  },
  {
   "cell_type": "code",
   "execution_count": 4,
   "metadata": {},
   "outputs": [
    {
     "data": {
      "text/html": [
       "<img src=\"https://raw.githubusercontent.com/Jazielinho/NLP_especialization/master/01_Classification_and_vector_spaces/01_Sentiment_Analysis_with_Logistic_Regression/01_resumen/02_sentiment_analysis.PNG\"/>"
      ],
      "text/plain": [
       "<IPython.core.display.Image object>"
      ]
     },
     "execution_count": 4,
     "metadata": {},
     "output_type": "execute_result"
    }
   ],
   "source": [
    "Image(url=\"https://raw.githubusercontent.com/Jazielinho/NLP_especialization/master/01_Classification_and_vector_spaces/01_Sentiment_Analysis_with_Logistic_Regression/01_resumen/02_sentiment_analysis.PNG\")"
   ]
  },
  {
   "cell_type": "code",
   "execution_count": 5,
   "metadata": {},
   "outputs": [],
   "source": [
    "import nltk\n",
    "from nltk.corpus import twitter_samples"
   ]
  },
  {
   "cell_type": "code",
   "execution_count": 6,
   "metadata": {},
   "outputs": [
    {
     "name": "stderr",
     "output_type": "stream",
     "text": [
      "[nltk_data] Downloading package twitter_samples to\n",
      "[nltk_data]     C:\\Users\\jahaz\\AppData\\Roaming\\nltk_data...\n",
      "[nltk_data]   Package twitter_samples is already up-to-date!\n"
     ]
    },
    {
     "data": {
      "text/plain": [
       "True"
      ]
     },
     "execution_count": 6,
     "metadata": {},
     "output_type": "execute_result"
    }
   ],
   "source": [
    "# Descargando tweets\n",
    "nltk.download('twitter_samples')"
   ]
  },
  {
   "cell_type": "code",
   "execution_count": 7,
   "metadata": {},
   "outputs": [],
   "source": [
    "# Seleccionando una lista de tweets positivos y negativos\n",
    "all_positive_tweets = twitter_samples.strings('positive_tweets.json')\n",
    "all_negative_tweets = twitter_samples.strings('negative_tweets.json')"
   ]
  },
  {
   "cell_type": "code",
   "execution_count": 8,
   "metadata": {},
   "outputs": [],
   "source": [
    "# Diviendo la lista de tweets en entrenamiento y test\n",
    "\n",
    "train_positive_tweets = all_positive_tweets[:int(len(all_positive_tweets) * 0.8)]\n",
    "train_negative_tweets = all_negative_tweets[:int(len(all_positive_tweets) * 0.8)]\n",
    "\n",
    "test_positive_tweets = all_positive_tweets[int(len(all_positive_tweets) * 0.8):]\n",
    "test_negative_tweets = all_negative_tweets[int(len(all_positive_tweets) * 0.8):]"
   ]
  },
  {
   "cell_type": "code",
   "execution_count": 9,
   "metadata": {},
   "outputs": [],
   "source": [
    "# juntando los textos y generando una target (0: negativo, 1: positivo)\n",
    "\n",
    "train_tweets = train_positive_tweets + train_negative_tweets\n",
    "train_target = [1] * len(train_positive_tweets) + [0] * len(train_negative_tweets)\n",
    "\n",
    "test_tweets = test_positive_tweets + test_negative_tweets\n",
    "test_target = [1] * len(test_positive_tweets) + [0] * len(test_negative_tweets)"
   ]
  },
  {
   "cell_type": "code",
   "execution_count": 10,
   "metadata": {},
   "outputs": [
    {
     "name": "stdout",
     "output_type": "stream",
     "text": [
      "Tamaño de train\n",
      "8000\n",
      "8000\n",
      "Tamaño de test\n",
      "2000\n",
      "2000\n"
     ]
    }
   ],
   "source": [
    "print(\"Tamaño de train\")\n",
    "print(len(train_tweets))\n",
    "print(len(train_target))\n",
    "\n",
    "print(\"Tamaño de test\")\n",
    "print(len(test_tweets))\n",
    "print(len(test_target))"
   ]
  },
  {
   "cell_type": "code",
   "execution_count": 11,
   "metadata": {},
   "outputs": [
    {
     "name": "stdout",
     "output_type": "stream",
     "text": [
      "#FollowFriday @France_Inte @PKuchly57 @Milipol_Paris for being top engaged members in my community this week :)\n",
      "1\n"
     ]
    }
   ],
   "source": [
    "print(train_tweets[0])\n",
    "print(train_target[0])"
   ]
  },
  {
   "cell_type": "markdown",
   "metadata": {},
   "source": [
    "Necesitamos transformar de alguna manera estos textos en un formato que nos ayude a aplicar los modelos Machine Learning, por ejemplo, una regresión logística ¿Cómo podemos transformar estos textos en un formato tabular?"
   ]
  },
  {
   "cell_type": "markdown",
   "metadata": {},
   "source": [
    "## Extracción de características\n",
    "\n",
    "### Frecuencias negativas y positivas\n",
    "\n",
    "Podemos enumerar las palabras y calcular las frecuencias en las que aparece estas palabras en frases positivas y negativas:"
   ]
  },
  {
   "cell_type": "code",
   "execution_count": 12,
   "metadata": {},
   "outputs": [
    {
     "data": {
      "text/html": [
       "<img src=\"https://raw.githubusercontent.com/Jazielinho/NLP_especialization/master/01_Classification_and_vector_spaces/01_Sentiment_Analysis_with_Logistic_Regression/01_resumen/03_frecuencias_negativas_positivas.PNG\"/>"
      ],
      "text/plain": [
       "<IPython.core.display.Image object>"
      ]
     },
     "execution_count": 12,
     "metadata": {},
     "output_type": "execute_result"
    }
   ],
   "source": [
    "Image(url=\"https://raw.githubusercontent.com/Jazielinho/NLP_especialization/master/01_Classification_and_vector_spaces/01_Sentiment_Analysis_with_Logistic_Regression/01_resumen/03_frecuencias_negativas_positivas.PNG\")"
   ]
  },
  {
   "cell_type": "markdown",
   "metadata": {},
   "source": [
    "## Preprocesamiento\n",
    "\n",
    "2 conceptos de preprocesamiento:\n",
    "\n",
    "* Stopwords\n",
    "* Stemming\n",
    "\n",
    "Estos métodos nos ayudan a limpiar los textos y generar las características\n",
    "\n",
    "Algo a tener en cuenta:\n",
    "\n",
    "* Puntuaciónes\n",
    "* Símbolos que no tienen significados (por ejemplo @)\n",
    "* Convertir a minúsculas"
   ]
  },
  {
   "cell_type": "code",
   "execution_count": 13,
   "metadata": {},
   "outputs": [
    {
     "name": "stderr",
     "output_type": "stream",
     "text": [
      "[nltk_data] Downloading package stopwords to\n",
      "[nltk_data]     C:\\Users\\jahaz\\AppData\\Roaming\\nltk_data...\n",
      "[nltk_data]   Package stopwords is already up-to-date!\n"
     ]
    },
    {
     "data": {
      "text/plain": [
       "True"
      ]
     },
     "execution_count": 13,
     "metadata": {},
     "output_type": "execute_result"
    }
   ],
   "source": [
    "# Descargando stopwords\n",
    "from nltk.stem import PorterStemmer\n",
    "from nltk.corpus import stopwords\n",
    "from nltk.tokenize import TweetTokenizer\n",
    "\n",
    "import string\n",
    "import re\n",
    "\n",
    "nltk.download('stopwords')"
   ]
  },
  {
   "cell_type": "code",
   "execution_count": 14,
   "metadata": {},
   "outputs": [],
   "source": [
    "def procesa_tweet(tweet):\n",
    "    '''\n",
    "    Limpiamos un tweet con información importante para entrenar los modelos\n",
    "        input: tweet\n",
    "        output: tweet limpio\n",
    "    '''\n",
    "    stemmer = PorterStemmer()\n",
    "    stopwords_english = stopwords.words('english')\n",
    "    # Eliminamos símbolos de tickets de mercado $GE\n",
    "    tweet = re.sub(r'\\$\\w*', '', tweet)\n",
    "    # Eliminamos estilos antiguos de retweet \"RT\"\n",
    "    tweet = re.sub(r'^RT[\\s]+', '', tweet)\n",
    "    # Eliminamos URL\n",
    "    tweet = re.sub(r'https?:\\/\\/.*[\\r\\n]*', '', tweet)\n",
    "    # Eliminamos hashtags\n",
    "    # Solo eliminamos el símbolo hash # en la palabra\n",
    "    tweet = re.sub(r'#', '', tweet)\n",
    "    # tokenize tweets\n",
    "    tokenizer = TweetTokenizer(preserve_case=False, strip_handles=True,\n",
    "                               reduce_len=True)\n",
    "    tweet_tokens = tokenizer.tokenize(tweet)\n",
    "    \n",
    "    tweets_clean = []\n",
    "    \n",
    "    for word in tweet_tokens:\n",
    "        if word not in stopwords_english and word not in string.punctuation:\n",
    "            tweets_clean.append(word)\n",
    "    \n",
    "    return tweets_clean"
   ]
  },
  {
   "cell_type": "code",
   "execution_count": 15,
   "metadata": {},
   "outputs": [
    {
     "name": "stdout",
     "output_type": "stream",
     "text": [
      "#FollowFriday @France_Inte @PKuchly57 @Milipol_Paris for being top engaged members in my community this week :)\n",
      "['followfriday', 'top', 'engaged', 'members', 'community', 'week', ':)']\n"
     ]
    }
   ],
   "source": [
    "print(train_positive_tweets[0])\n",
    "print(procesa_tweet(train_positive_tweets[0]))"
   ]
  },
  {
   "cell_type": "code",
   "execution_count": 16,
   "metadata": {},
   "outputs": [],
   "source": [
    "from tqdm.notebook import tqdm\n",
    "\n",
    "def genera_frecuencias(lista_tweets, lista_target):\n",
    "    ''' Generamos un diccionario con la cantidad de casos positivos\n",
    "        y negativos para cada palabra \n",
    "    '''\n",
    "    \n",
    "    frecuencias = {}\n",
    "    # Recorremos cada par tweet - target\n",
    "    for tweet, target in tqdm(zip(lista_tweets, lista_target), total=len(lista_tweets)):\n",
    "        # Tokenizamos el tweet\n",
    "        for word in procesa_tweet(tweet=tweet):\n",
    "            # Generamos el par (palabra, target)\n",
    "            par = (word, target)\n",
    "            # Actualizamos el diccionario de frecuencias\n",
    "            if par in frecuencias:\n",
    "                frecuencias[par] += 1\n",
    "            else:\n",
    "                frecuencias[par] = 1\n",
    "    return frecuencias"
   ]
  },
  {
   "cell_type": "code",
   "execution_count": 17,
   "metadata": {},
   "outputs": [
    {
     "data": {
      "application/vnd.jupyter.widget-view+json": {
       "model_id": "7fe839cdf5f549b194e287ea83c3c404",
       "version_major": 2,
       "version_minor": 0
      },
      "text/plain": [
       "HBox(children=(FloatProgress(value=0.0, max=8000.0), HTML(value='')))"
      ]
     },
     "metadata": {},
     "output_type": "display_data"
    },
    {
     "name": "stdout",
     "output_type": "stream",
     "text": [
      "\n"
     ]
    }
   ],
   "source": [
    "frecuencias = genera_frecuencias(lista_tweets=train_tweets, lista_target=train_target)"
   ]
  },
  {
   "cell_type": "code",
   "execution_count": 18,
   "metadata": {},
   "outputs": [
    {
     "data": {
      "text/plain": [
       "dict"
      ]
     },
     "execution_count": 18,
     "metadata": {},
     "output_type": "execute_result"
    }
   ],
   "source": [
    "type(frecuencias)"
   ]
  },
  {
   "cell_type": "code",
   "execution_count": 19,
   "metadata": {},
   "outputs": [
    {
     "data": {
      "text/plain": [
       "13136"
      ]
     },
     "execution_count": 19,
     "metadata": {},
     "output_type": "execute_result"
    }
   ],
   "source": [
    "len(frecuencias)"
   ]
  },
  {
   "cell_type": "code",
   "execution_count": 20,
   "metadata": {},
   "outputs": [
    {
     "name": "stdout",
     "output_type": "stream",
     "text": [
      "22\n",
      "192\n"
     ]
    }
   ],
   "source": [
    "print(frecuencias[('thank', 0)])\n",
    "print(frecuencias[('thank', 1)])"
   ]
  },
  {
   "cell_type": "markdown",
   "metadata": {},
   "source": [
    "Con los textos límpios y con el diccionario (palabra, target): cantidad, podemos generar características asociadas a cada texto:"
   ]
  },
  {
   "cell_type": "markdown",
   "metadata": {},
   "source": [
    "$X_m = [\\sum_m freqs (w, 1), \\sum_m freqs (w, 0)|]$"
   ]
  },
  {
   "cell_type": "code",
   "execution_count": 21,
   "metadata": {},
   "outputs": [
    {
     "data": {
      "text/html": [
       "<img src=\"https://raw.githubusercontent.com/Jazielinho/NLP_especialization/master/01_Classification_and_vector_spaces/01_Sentiment_Analysis_with_Logistic_Regression/01_resumen/04_tabla_frecuencias.PNG\"/>"
      ],
      "text/plain": [
       "<IPython.core.display.Image object>"
      ]
     },
     "execution_count": 21,
     "metadata": {},
     "output_type": "execute_result"
    }
   ],
   "source": [
    "Image(url=\"https://raw.githubusercontent.com/Jazielinho/NLP_especialization/master/01_Classification_and_vector_spaces/01_Sentiment_Analysis_with_Logistic_Regression/01_resumen/04_tabla_frecuencias.PNG\")"
   ]
  },
  {
   "cell_type": "code",
   "execution_count": 22,
   "metadata": {},
   "outputs": [],
   "source": [
    "def genera_caracteristicas(tweet, freqs):\n",
    "    '''\n",
    "    Input:\n",
    "        tweet: un tweet\n",
    "        freqs: diccionario de frecuencias\n",
    "    Output: \n",
    "        x: a feature vector of dimension (1,3)\n",
    "    '''\n",
    "    # Procesamos los tweets\n",
    "    word_l = procesa_tweet(tweet)\n",
    "    \n",
    "    # una lista con 2 elementos\n",
    "    x = [0, 0]\n",
    "    \n",
    "    # Para cada palabra en la lista de palabras tokenizadas\n",
    "    for word in word_l:\n",
    "        # El primer componente es la suma de las veces que aparece esa palabra en casos positivos\n",
    "        x[0] += freqs.get((word, 1), 0)\n",
    "        \n",
    "        # El segundo componente es la suma de las veces que aparece esa palabra en casos negativos\n",
    "        x[1] += freqs.get((word, 0), 0)\n",
    "    return x"
   ]
  },
  {
   "cell_type": "code",
   "execution_count": 23,
   "metadata": {},
   "outputs": [
    {
     "name": "stdout",
     "output_type": "stream",
     "text": [
      "#FollowFriday @France_Inte @PKuchly57 @Milipol_Paris for being top engaged members in my community this week :)\n",
      "['followfriday', 'top', 'engaged', 'members', 'community', 'week', ':)']\n",
      "[3003, 49]\n"
     ]
    }
   ],
   "source": [
    "print(train_tweets[0])\n",
    "print(procesa_tweet(train_tweets[0]))\n",
    "print(genera_caracteristicas(train_tweets[0], frecuencias))"
   ]
  },
  {
   "cell_type": "code",
   "execution_count": 24,
   "metadata": {},
   "outputs": [
    {
     "name": "stdout",
     "output_type": "stream",
     "text": [
      "@SisiphoMphoza Can't wait to see you there :-)\n",
      "[\"can't\", 'wait', 'see', ':-)']\n",
      "[748, 259]\n"
     ]
    }
   ],
   "source": [
    "print(test_tweets[100])\n",
    "print(procesa_tweet(test_tweets[100]))\n",
    "print(genera_caracteristicas(test_tweets[100], frecuencias))"
   ]
  },
  {
   "cell_type": "code",
   "execution_count": 25,
   "metadata": {},
   "outputs": [],
   "source": [
    "# Generando la lista con las frecuencias positivas y negativas\n",
    "X_train_list = [genera_caracteristicas(x, freqs=frecuencias) for x in train_tweets]\n",
    "\n",
    "X_test_list = [genera_caracteristicas(x, freqs=frecuencias) for x in test_tweets]"
   ]
  },
  {
   "cell_type": "code",
   "execution_count": 26,
   "metadata": {},
   "outputs": [],
   "source": [
    "# Convirtiendo en matriz\n",
    "import numpy as np\n",
    "\n",
    "X_train = np.array(X_train_list)\n",
    "X_test = np.array(X_test_list)\n",
    "\n",
    "\n",
    "# Generando la target\n",
    "train_target = np.array(train_target)\n",
    "test_target = np.array(test_target)"
   ]
  },
  {
   "cell_type": "markdown",
   "metadata": {},
   "source": [
    "Analizando las nuevas variables respecto a la target"
   ]
  },
  {
   "cell_type": "code",
   "execution_count": 27,
   "metadata": {},
   "outputs": [],
   "source": [
    "import pandas as pd\n",
    "import matplotlib.pyplot as plt"
   ]
  },
  {
   "cell_type": "code",
   "execution_count": 28,
   "metadata": {},
   "outputs": [
    {
     "data": {
      "image/png": "[encoded data removed]",
      "text/plain": [
       "<Figure size 432x288 with 1 Axes>"
      ]
     },
     "metadata": {
      "needs_background": "light"
     },
     "output_type": "display_data"
    }
   ],
   "source": [
    "df = pd.DataFrame({'x': X_train[:,0], 'y': X_train[:,1], 'label': train_target})\n",
    "\n",
    "groups = df.groupby('label')\n",
    "\n",
    "# Plot\n",
    "fig, ax = plt.subplots()\n",
    "ax.margins(0.05) # Optional, just adds 5% padding to the autoscaling\n",
    "for name, group in groups:\n",
    "    ax.plot(group.x, group.y, marker='o', linestyle='', label=name)\n",
    "ax.legend()\n",
    "ax.set_yscale('log')\n",
    "ax.set_xscale('log')\n",
    "\n",
    "plt.show()"
   ]
  },
  {
   "cell_type": "code",
   "execution_count": 29,
   "metadata": {},
   "outputs": [
    {
     "data": {
      "image/png": "[encoded data removed]",
      "text/plain": [
       "<Figure size 432x288 with 1 Axes>"
      ]
     },
     "metadata": {
      "needs_background": "light"
     },
     "output_type": "display_data"
    }
   ],
   "source": [
    "df = pd.DataFrame({'x': X_test[:,0], 'y': X_test[:,1], 'label': test_target})\n",
    "\n",
    "groups = df.groupby('label')\n",
    "\n",
    "# Plot\n",
    "fig, ax = plt.subplots()\n",
    "ax.margins(0.05) # Optional, just adds 5% padding to the autoscaling\n",
    "for name, group in groups:\n",
    "    ax.plot(group.x, group.y, marker='o', linestyle='', label=name)\n",
    "ax.legend()\n",
    "ax.set_yscale('log')\n",
    "ax.set_xscale('log')\n",
    "\n",
    "plt.show()"
   ]
  },
  {
   "cell_type": "markdown",
   "metadata": {},
   "source": [
    "## Regresión logística\n",
    "\n",
    "Vamos a entrenar una regresión logísticas en nuestro conjunto de entrenamiento"
   ]
  },
  {
   "cell_type": "code",
   "execution_count": 30,
   "metadata": {},
   "outputs": [
    {
     "data": {
      "text/html": [
       "<img src=\"https://raw.githubusercontent.com/Jazielinho/NLP_especialization/master/01_Classification_and_vector_spaces/01_Sentiment_Analysis_with_Logistic_Regression/01_resumen/05_regresion_logistica.PNG\"/>"
      ],
      "text/plain": [
       "<IPython.core.display.Image object>"
      ]
     },
     "execution_count": 30,
     "metadata": {},
     "output_type": "execute_result"
    }
   ],
   "source": [
    "Image(url=\"https://raw.githubusercontent.com/Jazielinho/NLP_especialization/master/01_Classification_and_vector_spaces/01_Sentiment_Analysis_with_Logistic_Regression/01_resumen/05_regresion_logistica.PNG\")"
   ]
  },
  {
   "cell_type": "code",
   "execution_count": 31,
   "metadata": {},
   "outputs": [],
   "source": [
    "from sklearn.linear_model import LogisticRegression"
   ]
  },
  {
   "cell_type": "code",
   "execution_count": 32,
   "metadata": {},
   "outputs": [
    {
     "data": {
      "text/plain": [
       "LogisticRegression(C=1.0, class_weight=None, dual=False, fit_intercept=True,\n",
       "                   intercept_scaling=1, l1_ratio=None, max_iter=100,\n",
       "                   multi_class='auto', n_jobs=None, penalty='l2',\n",
       "                   random_state=None, solver='lbfgs', tol=0.0001, verbose=0,\n",
       "                   warm_start=False)"
      ]
     },
     "execution_count": 32,
     "metadata": {},
     "output_type": "execute_result"
    }
   ],
   "source": [
    "lr = LogisticRegression()\n",
    "\n",
    "lr.fit(X_train, np.array(train_target))"
   ]
  },
  {
   "cell_type": "markdown",
   "metadata": {},
   "source": [
    "Prediciendo el modelo en el conjunto de test"
   ]
  },
  {
   "cell_type": "code",
   "execution_count": 33,
   "metadata": {},
   "outputs": [],
   "source": [
    "# Prediciendo en el conjunto de test\n",
    "pred_test = lr.predict(X_test)\n",
    "pred_proba_test = lr.predict_proba(X_test)"
   ]
  },
  {
   "cell_type": "markdown",
   "metadata": {},
   "source": [
    "## Evaluando el modelo\n",
    "\n",
    "Para evaluar el modelo vamos a usar la precisión:\n",
    "\n",
    "$exactitud = \\sum_{i=1}^{m}\\frac{pred^{(i)} == y^{{i}}}{m}$"
   ]
  },
  {
   "cell_type": "code",
   "execution_count": 34,
   "metadata": {},
   "outputs": [],
   "source": [
    "from sklearn.metrics import accuracy_score, plot_confusion_matrix"
   ]
  },
  {
   "cell_type": "code",
   "execution_count": 35,
   "metadata": {},
   "outputs": [
    {
     "data": {
      "text/plain": [
       "0.992"
      ]
     },
     "execution_count": 35,
     "metadata": {},
     "output_type": "execute_result"
    }
   ],
   "source": [
    "accuracy_score(test_target, pred_test)"
   ]
  },
  {
   "cell_type": "code",
   "execution_count": 36,
   "metadata": {},
   "outputs": [
    {
     "data": {
      "text/plain": [
       "<sklearn.metrics._plot.confusion_matrix.ConfusionMatrixDisplay at 0x242d33f5d48>"
      ]
     },
     "execution_count": 36,
     "metadata": {},
     "output_type": "execute_result"
    },
    {
     "data": {
      "image/png": "[encoded data removed]",
      "text/plain": [
       "<Figure size 432x288 with 2 Axes>"
      ]
     },
     "metadata": {
      "needs_background": "light"
     },
     "output_type": "display_data"
    }
   ],
   "source": [
    "plot_confusion_matrix(lr, X_test, test_target)"
   ]
  },
  {
   "cell_type": "markdown",
   "metadata": {},
   "source": [
    "### Analizando casos donde falla el modelo"
   ]
  },
  {
   "cell_type": "code",
   "execution_count": 37,
   "metadata": {},
   "outputs": [
    {
     "data": {
      "text/plain": [
       "(array([  84,  129,  136,  530,  822, 1103, 1298, 1364, 1544, 1569, 1715,\n",
       "        1739, 1756, 1773, 1853, 1945], dtype=int64),)"
      ]
     },
     "execution_count": 37,
     "metadata": {},
     "output_type": "execute_result"
    }
   ],
   "source": [
    "np.where(test_target != pred_test)"
   ]
  },
  {
   "cell_type": "code",
   "execution_count": 38,
   "metadata": {},
   "outputs": [],
   "source": [
    "def analiza_modelo(indice):\n",
    "    print(\"\\n* Tweet original: {}\".format(test_tweets[indice]))\n",
    "    print(\"\\n* Tweet tokenizado: {}\".format(procesa_tweet(test_tweets[indice])))\n",
    "    print(\"\\n* Predicción: {}\".format(pred_test[indice]))\n",
    "    print(\"\\n* Probabilidad: {}\".format(pred_proba_test[indice]))\n",
    "    print(\"\\n* Valor real: {}\".format(test_target[indice]))    "
   ]
  },
  {
   "cell_type": "code",
   "execution_count": 39,
   "metadata": {},
   "outputs": [
    {
     "name": "stdout",
     "output_type": "stream",
     "text": [
      "\n",
      "* Tweet original: I'm playing Brain Dots : ) #BrainDots http://t.co/R2JBO8iNww http://t.co/ow5BBwdEMY\n",
      "\n",
      "* Tweet tokenizado: [\"i'm\", 'playing', 'brain', 'dots', 'braindots']\n",
      "\n",
      "* Predicción: 0\n",
      "\n",
      "* Probabilidad: [0.58060611 0.41939389]\n",
      "\n",
      "* Valor real: 1\n"
     ]
    }
   ],
   "source": [
    "analiza_modelo(530)"
   ]
  },
  {
   "cell_type": "code",
   "execution_count": 40,
   "metadata": {},
   "outputs": [
    {
     "name": "stdout",
     "output_type": "stream",
     "text": [
      "\n",
      "* Tweet original: @CHEDA_KHAN Thats life. I get calls from people I havent seen in 20 years and its always favours : (\n",
      "\n",
      "* Tweet tokenizado: ['thats', 'life', 'get', 'calls', 'people', 'havent', 'seen', '20', 'years', 'always', 'favours']\n",
      "\n",
      "* Predicción: 1\n",
      "\n",
      "* Probabilidad: [0.43990881 0.56009119]\n",
      "\n",
      "* Valor real: 0\n"
     ]
    }
   ],
   "source": [
    "analiza_modelo(1773)"
   ]
  },
  {
   "cell_type": "markdown",
   "metadata": {},
   "source": [
    "## Esto es todo!!!!!"
   ]
  }
 ],
 "metadata": {
  "kernelspec": {
   "display_name": "Python 3",
   "language": "python",
   "name": "python3"
  },
  "language_info": {
   "codemirror_mode": {
    "name": "ipython",
    "version": 3
   },
   "file_extension": ".py",
   "mimetype": "text/x-python",
   "name": "python",
   "nbconvert_exporter": "python",
   "pygments_lexer": "ipython3",
   "version": "3.7.6"
  }
 },
 "nbformat": 4,
 "nbformat_minor": 4
}
